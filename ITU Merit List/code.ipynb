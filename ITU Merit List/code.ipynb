{
 "cells": [
  {
   "cell_type": "code",
   "execution_count": 1,
   "metadata": {},
   "outputs": [],
   "source": [
    "from selenium import webdriver\n",
    "from selenium.webdriver.common.by import By\n",
    "from selenium.webdriver.common.keys import Keys\n",
    "from selenium.common.exceptions import NoSuchElementException\n",
    "import pandas as pd\n",
    "import time"
   ]
  },
  {
   "cell_type": "code",
   "execution_count": 2,
   "metadata": {},
   "outputs": [],
   "source": [
    "BASE_URL = \"https://itu.edu.pk/ms-computer-science-1st-merit-list-2023/\""
   ]
  },
  {
   "cell_type": "code",
   "execution_count": 3,
   "metadata": {},
   "outputs": [],
   "source": [
    "def land_page(url):\n",
    "    driver.get(url)"
   ]
  },
  {
   "cell_type": "code",
   "execution_count": 4,
   "metadata": {},
   "outputs": [],
   "source": [
    "def get_data():\n",
    "    data = []\n",
    "    table = driver.find_element(By.CSS_SELECTOR, 'table.table.table-bordered.table-hovered.table-striped')\n",
    "    rows = table.find_elements(By.TAG_NAME, 'tr')\n",
    "    for i in rows:\n",
    "        temp = []\n",
    "        tds = i.find_elements(By.TAG_NAME, 'td')\n",
    "        for j in tds:\n",
    "            temp.append(j.text)\n",
    "        data.append(temp)\n",
    "    return data"
   ]
  },
  {
   "cell_type": "code",
   "execution_count": 5,
   "metadata": {},
   "outputs": [],
   "source": [
    "driver = webdriver.Chrome()\n",
    "driver.implicitly_wait(20)\n",
    "land_page(BASE_URL)\n",
    "data = get_data()"
   ]
  },
  {
   "cell_type": "code",
   "execution_count": 7,
   "metadata": {},
   "outputs": [],
   "source": [
    "df = pd.DataFrame(data)"
   ]
  },
  {
   "cell_type": "code",
   "execution_count": 9,
   "metadata": {},
   "outputs": [],
   "source": [
    "df.to_csv('ITU Merit List.csv')"
   ]
  },
  {
   "cell_type": "code",
   "execution_count": 2,
   "metadata": {},
   "outputs": [],
   "source": [
    "df = pd.read_csv('ITU Merit List.csv', index_col='SR. No')"
   ]
  },
  {
   "cell_type": "code",
   "execution_count": 3,
   "metadata": {},
   "outputs": [
    {
     "data": {
      "text/html": [
       "<div>\n",
       "<style scoped>\n",
       "    .dataframe tbody tr th:only-of-type {\n",
       "        vertical-align: middle;\n",
       "    }\n",
       "\n",
       "    .dataframe tbody tr th {\n",
       "        vertical-align: top;\n",
       "    }\n",
       "\n",
       "    .dataframe thead th {\n",
       "        text-align: right;\n",
       "    }\n",
       "</style>\n",
       "<table border=\"1\" class=\"dataframe\">\n",
       "  <thead>\n",
       "    <tr style=\"text-align: right;\">\n",
       "      <th></th>\n",
       "      <th>Tacking ID</th>\n",
       "      <th>Roll Number</th>\n",
       "      <th>Full Name</th>\n",
       "      <th>CNIC</th>\n",
       "      <th>Merit</th>\n",
       "    </tr>\n",
       "    <tr>\n",
       "      <th>SR. No</th>\n",
       "      <th></th>\n",
       "      <th></th>\n",
       "      <th></th>\n",
       "      <th></th>\n",
       "      <th></th>\n",
       "    </tr>\n",
       "  </thead>\n",
       "  <tbody>\n",
       "    <tr>\n",
       "      <th>1</th>\n",
       "      <td>MS-202375716</td>\n",
       "      <td>250048</td>\n",
       "      <td>Khalida Rasheed</td>\n",
       "      <td>32103-9686869-4</td>\n",
       "      <td>91.22</td>\n",
       "    </tr>\n",
       "    <tr>\n",
       "      <th>2</th>\n",
       "      <td>MS-202373097</td>\n",
       "      <td>250014</td>\n",
       "      <td>Hassan Javaid</td>\n",
       "      <td>35202-1915319-1</td>\n",
       "      <td>89.17</td>\n",
       "    </tr>\n",
       "    <tr>\n",
       "      <th>3</th>\n",
       "      <td>MS-202381348</td>\n",
       "      <td>250094</td>\n",
       "      <td>Ayesha Riaz</td>\n",
       "      <td>34101-1264551-0</td>\n",
       "      <td>89.14</td>\n",
       "    </tr>\n",
       "    <tr>\n",
       "      <th>4</th>\n",
       "      <td>MS-202375111</td>\n",
       "      <td>230010</td>\n",
       "      <td>Hamda Arfan</td>\n",
       "      <td>35202-1481965-8</td>\n",
       "      <td>88.69</td>\n",
       "    </tr>\n",
       "    <tr>\n",
       "      <th>5</th>\n",
       "      <td>MS-202375287</td>\n",
       "      <td>250038</td>\n",
       "      <td>Ansharah Saeed</td>\n",
       "      <td>35202-4183180-4</td>\n",
       "      <td>88.60</td>\n",
       "    </tr>\n",
       "    <tr>\n",
       "      <th>...</th>\n",
       "      <td>...</td>\n",
       "      <td>...</td>\n",
       "      <td>...</td>\n",
       "      <td>...</td>\n",
       "      <td>...</td>\n",
       "    </tr>\n",
       "    <tr>\n",
       "      <th>60</th>\n",
       "      <td>MS-202379105</td>\n",
       "      <td>250075</td>\n",
       "      <td>Tehreem Fatima</td>\n",
       "      <td>35404-6254180-8</td>\n",
       "      <td>73.87</td>\n",
       "    </tr>\n",
       "    <tr>\n",
       "      <th>61</th>\n",
       "      <td>MS-202375607</td>\n",
       "      <td>230012</td>\n",
       "      <td>Muhammad Ahsan</td>\n",
       "      <td>35404-8275638-9</td>\n",
       "      <td>73.82</td>\n",
       "    </tr>\n",
       "    <tr>\n",
       "      <th>62</th>\n",
       "      <td>MS-202380908</td>\n",
       "      <td>250090</td>\n",
       "      <td>Nimra Nuzhat</td>\n",
       "      <td>33100-8740155-6</td>\n",
       "      <td>73.44</td>\n",
       "    </tr>\n",
       "    <tr>\n",
       "      <th>63</th>\n",
       "      <td>MS-202374938</td>\n",
       "      <td>250033</td>\n",
       "      <td>Usama Zaheen</td>\n",
       "      <td>13101-1976118-1</td>\n",
       "      <td>73.14</td>\n",
       "    </tr>\n",
       "    <tr>\n",
       "      <th>64</th>\n",
       "      <td>MS-202380255</td>\n",
       "      <td>250083</td>\n",
       "      <td>Fatima Shahzad</td>\n",
       "      <td>35202-8879368-0</td>\n",
       "      <td>73.01</td>\n",
       "    </tr>\n",
       "  </tbody>\n",
       "</table>\n",
       "<p>64 rows × 5 columns</p>\n",
       "</div>"
      ],
      "text/plain": [
       "          Tacking ID  Roll Number        Full Name             CNIC  Merit\n",
       "SR. No                                                                    \n",
       "1       MS-202375716       250048  Khalida Rasheed  32103-9686869-4  91.22\n",
       "2       MS-202373097       250014    Hassan Javaid  35202-1915319-1  89.17\n",
       "3       MS-202381348       250094      Ayesha Riaz  34101-1264551-0  89.14\n",
       "4       MS-202375111       230010      Hamda Arfan  35202-1481965-8  88.69\n",
       "5       MS-202375287       250038   Ansharah Saeed  35202-4183180-4  88.60\n",
       "...              ...          ...              ...              ...    ...\n",
       "60      MS-202379105       250075   Tehreem Fatima  35404-6254180-8  73.87\n",
       "61      MS-202375607       230012   Muhammad Ahsan  35404-8275638-9  73.82\n",
       "62      MS-202380908       250090     Nimra Nuzhat  33100-8740155-6  73.44\n",
       "63      MS-202374938       250033     Usama Zaheen  13101-1976118-1  73.14\n",
       "64      MS-202380255       250083   Fatima Shahzad  35202-8879368-0  73.01\n",
       "\n",
       "[64 rows x 5 columns]"
      ]
     },
     "execution_count": 3,
     "metadata": {},
     "output_type": "execute_result"
    }
   ],
   "source": [
    "df"
   ]
  },
  {
   "cell_type": "code",
   "execution_count": 4,
   "metadata": {},
   "outputs": [],
   "source": [
    "import matplotlib.pyplot as plt\n",
    "import seaborn as sns"
   ]
  },
  {
   "cell_type": "code",
   "execution_count": 5,
   "metadata": {},
   "outputs": [
    {
     "data": {
      "text/plain": [
       "<Axes: xlabel='Merit', ylabel='Count'>"
      ]
     },
     "execution_count": 5,
     "metadata": {},
     "output_type": "execute_result"
    },
    {
     "data": {
      "image/png": "[encoded data removed]",
      "text/plain": [
       "<Figure size 640x480 with 1 Axes>"
      ]
     },
     "metadata": {},
     "output_type": "display_data"
    }
   ],
   "source": [
    "sns.histplot(df['Merit'])"
   ]
  },
  {
   "cell_type": "code",
   "execution_count": 6,
   "metadata": {},
   "outputs": [
    {
     "data": {
      "text/plain": [
       "{'whiskers': [<matplotlib.lines.Line2D at 0x1d83c7f9610>,\n",
       "  <matplotlib.lines.Line2D at 0x1d83c7fa1d0>],\n",
       " 'caps': [<matplotlib.lines.Line2D at 0x1d83c7fac90>,\n",
       "  <matplotlib.lines.Line2D at 0x1d83c7fb810>],\n",
       " 'boxes': [<matplotlib.lines.Line2D at 0x1d83c7f8ad0>],\n",
       " 'medians': [<matplotlib.lines.Line2D at 0x1d83ea04410>],\n",
       " 'fliers': [<matplotlib.lines.Line2D at 0x1d83ea04e50>],\n",
       " 'means': []}"
      ]
     },
     "execution_count": 6,
     "metadata": {},
     "output_type": "execute_result"
    },
    {
     "data": {
      "image/png": "[encoded data removed]",
      "text/plain": [
       "<Figure size 640x480 with 1 Axes>"
      ]
     },
     "metadata": {},
     "output_type": "display_data"
    }
   ],
   "source": [
    "plt.boxplot(df['Merit'])"
   ]
  }
 ],
 "metadata": {
  "kernelspec": {
   "display_name": "Python 3",
   "language": "python",
   "name": "python3"
  },
  "language_info": {
   "codemirror_mode": {
    "name": "ipython",
    "version": 3
   },
   "file_extension": ".py",
   "mimetype": "text/x-python",
   "name": "python",
   "nbconvert_exporter": "python",
   "pygments_lexer": "ipython3",
   "version": "3.11.3"
  },
  "orig_nbformat": 4
 },
 "nbformat": 4,
 "nbformat_minor": 2
}
