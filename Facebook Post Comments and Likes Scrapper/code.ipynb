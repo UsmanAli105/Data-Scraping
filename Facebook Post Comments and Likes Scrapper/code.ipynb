{
 "cells": [
  {
   "cell_type": "code",
   "execution_count": null,
   "metadata": {},
   "outputs": [],
   "source": [
    "from selenium import webdriver\n",
    "from selenium.webdriver.common.by import By\n",
    "from selenium.webdriver.remote.webdriver import WebDriver\n",
    "from selenium.common.exceptions import NoSuchElementException\n",
    "from selenium.webdriver.support.ui import WebDriverWait\n",
    "from selenium.webdriver.support import expected_conditions as EC\n",
    "import pandas as pd\n",
    "import time"
   ]
  },
  {
   "cell_type": "code",
   "execution_count": null,
   "metadata": {},
   "outputs": [],
   "source": [
    "BASE_URL = \"\""
   ]
  },
  {
   "cell_type": "code",
   "execution_count": null,
   "metadata": {},
   "outputs": [],
   "source": [
    "def land_page(url):\n",
    "    driver.get(url)"
   ]
  },
  {
   "cell_type": "code",
   "execution_count": null,
   "metadata": {},
   "outputs": [],
   "source": [
    "def close_dialogue():\n",
    "    driver.find_element(By.CSS_SELECTOR, 'div[aria-label=\"Close\"]').click()"
   ]
  },
  {
   "cell_type": "code",
   "execution_count": null,
   "metadata": {},
   "outputs": [],
   "source": [
    "def login_dialogue(username, password):\n",
    "    email_feild = driver.find_element(By.ID, ':r1k:')\n",
    "    password_feild = driver.find_element(By.CSS_SELECTOR, 'label[aria-label=\"Password\"]')\n",
    "    email_feild.send_keys(username)\n",
    "    password_feild.send_keys(password)\n",
    "    login_btn = driver.find_element(By.CSS_SELECTOR, 'div[aria-label=\"Accessible login button\"]')\n",
    "    login_btn.click()"
   ]
  },
  {
   "cell_type": "code",
   "execution_count": null,
   "metadata": {},
   "outputs": [],
   "source": [
    "def click_comments(c_type):\n",
    "    comment_section = driver.find_element(By.CSS_SELECTOR, '.x1jx94hy.x78zum5.xdt5ytf.x2lah0s.xw2csxc.x1odjw0f.xmd6oqt.x13o0s5z')\n",
    "    caption = comment_section.find_element(By.CSS_SELECTOR, 'div[dir=\"auto\"]')\n",
    "    most_rel_btn = comment_section.find_element(By.CSS_SELECTOR, 'span.x193iq5w.xeuugli.x13faqbe.x1vvkbs.x1xmvt09.x1lliihq.x1s928wv.xhkezso.x1gmr53x.x1cpjm7i.x1fgarty.x1943h6x.xudqn12.x3x7a5m.x6prxxf.xvq8zen.x1s688f.xi81zsa')\n",
    "    most_rel_btn.click()\n",
    "    comment_type_box = driver.find_element(By.CSS_SELECTOR, '[role=\"menu\"].x1n2onr6.xcxhlts.x1fayt1i')\n",
    "    comment_type = comment_type_box.find_elements(By.TAG_NAME, 'span')\n",
    "    comment_type[c_type].click()\n",
    "    time.sleep(5)\n",
    "    uls = comment_section.find_element(By.TAG_NAME, 'ul')\n",
    "    lis = uls.find_elements(By.TAG_NAME, 'li')\n",
    "    return lis\n"
   ]
  },
  {
   "cell_type": "code",
   "execution_count": null,
   "metadata": {},
   "outputs": [],
   "source": [
    "def get_data(lis):\n",
    "    data = []\n",
    "    count = 0\n",
    "    for i in range(len(lis)):\n",
    "        data.append(lis[i].text)\n",
    "    return data"
   ]
  },
  {
   "cell_type": "code",
   "execution_count": null,
   "metadata": {},
   "outputs": [],
   "source": [
    "driver = webdriver.Chrome()\n",
    "driver.implicitly_wait(20)\n",
    "land_page(BASE_URL)"
   ]
  },
  {
   "cell_type": "code",
   "execution_count": null,
   "metadata": {},
   "outputs": [],
   "source": [
    "lis = click_comments(4)\n",
    "data = get_data(lis)\n",
    "filteredData = []\n",
    "for i in data:\n",
    "    if len(i) > 10:\n",
    "        j = i.split('\\n')\n",
    "        name = j[0]\n",
    "        comment = j[1]\n",
    "        filteredData.append([name, comment])\n",
    "df = pd.DataFrame(filteredData, columns=['name', 'comment'])\n",
    "df"
   ]
  },
  {
   "cell_type": "code",
   "execution_count": null,
   "metadata": {},
   "outputs": [],
   "source": [
    "df.to_csv('comments_sample.csv')"
   ]
  },
  {
   "cell_type": "code",
   "execution_count": null,
   "metadata": {},
   "outputs": [],
   "source": [
    "import nltk\n",
    "nltk.download('vader_lexicon')"
   ]
  },
  {
   "cell_type": "code",
   "execution_count": null,
   "metadata": {},
   "outputs": [],
   "source": [
    "from nltk.sentiment.vader import SentimentIntensityAnalyzer"
   ]
  },
  {
   "cell_type": "code",
   "execution_count": null,
   "metadata": {},
   "outputs": [],
   "source": [
    "sia = SentimentIntensityAnalyzer()\n",
    "\n",
    "# Function to determine sentiment label\n",
    "def get_sentiment_label(sentiment_score):\n",
    "    if sentiment_score > 0:\n",
    "        return 1  # Positive\n",
    "    elif sentiment_score < 0:\n",
    "        return -1  # Negative\n",
    "    else:\n",
    "        return 0  # Neutral"
   ]
  },
  {
   "cell_type": "code",
   "execution_count": null,
   "metadata": {},
   "outputs": [],
   "source": [
    "df= pd.read_csv('comments_sample.csv')"
   ]
  },
  {
   "cell_type": "code",
   "execution_count": null,
   "metadata": {},
   "outputs": [],
   "source": [
    "# Apply sentiment analysis and add sentiment column to DataFrame\n",
    "df['sentiment_scores'] = df['comment'].apply(lambda x: sia.polarity_scores(x)['compound'])\n",
    "df['sentiment'] = df['sentiment_scores'].apply(get_sentiment_label)"
   ]
  },
  {
   "cell_type": "code",
   "execution_count": null,
   "metadata": {},
   "outputs": [],
   "source": [
    "df"
   ]
  },
  {
   "cell_type": "code",
   "execution_count": null,
   "metadata": {},
   "outputs": [],
   "source": [
    "print(len(df))\n",
    "print(df['sentiment'].value_counts())"
   ]
  },
  {
   "cell_type": "code",
   "execution_count": null,
   "metadata": {},
   "outputs": [],
   "source": [
    "total_positive = (df['sentiment'] == 1).sum()\n",
    "total_negative = (df['sentiment'] == -1).sum()\n",
    "total_neutral = (df['sentiment'] == 0).sum()\n",
    "\n",
    "# Calculate the total number of comments\n",
    "total_comments = total_positive + total_negative + total_neutral\n",
    "\n",
    "# Calculate the proportion of each sentiment category\n",
    "proportion_positive = total_positive / total_comments\n",
    "proportion_negative = total_negative / total_comments\n",
    "proportion_neutral = total_neutral / total_comments\n",
    "\n",
    "# Determine the overall sentiment based on the majority proportion\n",
    "if proportion_positive > proportion_negative:\n",
    "    overall_sentiment = \"Positive\"\n",
    "elif proportion_positive < proportion_negative:\n",
    "    overall_sentiment = \"Negative\"\n",
    "else:\n",
    "    overall_sentiment = \"Neutral\"\n",
    "\n",
    "# Print or display the results\n",
    "print(f\"Total Comments: {total_comments}\")\n",
    "print(f\"Proportion Positive: {proportion_positive:.2%}\")\n",
    "print(f\"Proportion Negative: {proportion_negative:.2%}\")\n",
    "print(f\"Proportion Neutral: {proportion_neutral:.2%}\")\n",
    "print(f\"Overall Sentiment: {overall_sentiment}\")"
   ]
  }
 ],
 "metadata": {
  "kernelspec": {
   "display_name": "Python 3",
   "language": "python",
   "name": "python3"
  },
  "language_info": {
   "codemirror_mode": {
    "name": "ipython",
    "version": 3
   },
   "file_extension": ".py",
   "mimetype": "text/x-python",
   "name": "python",
   "nbconvert_exporter": "python",
   "pygments_lexer": "ipython3",
   "version": "3.11.3"
  },
  "orig_nbformat": 4
 },
 "nbformat": 4,
 "nbformat_minor": 2
}
