{
 "cells": [
  {
   "cell_type": "code",
   "execution_count": null,
   "metadata": {},
   "outputs": [],
   "source": [
    "from selenium import webdriver\n",
    "from selenium.webdriver.common.by import By\n",
    "from selenium.webdriver.remote.webdriver import WebDriver\n",
    "from selenium.common.exceptions import NoSuchElementException\n",
    "from selenium.webdriver.support.ui import WebDriverWait\n",
    "from selenium.webdriver.support import expected_conditions as EC\n",
    "import pandas as pd\n",
    "import time"
   ]
  },
  {
   "cell_type": "code",
   "execution_count": null,
   "metadata": {},
   "outputs": [],
   "source": [
    "BASE_URL = \"https://www.booking.com/\""
   ]
  },
  {
   "cell_type": "code",
   "execution_count": null,
   "metadata": {},
   "outputs": [],
   "source": [
    "def land_page(url):\n",
    "    driver.get(url)"
   ]
  },
  {
   "cell_type": "code",
   "execution_count": null,
   "metadata": {},
   "outputs": [],
   "source": [
    "def close_info_box():\n",
    "    close_btn = driver.find_element(By.CSS_SELECTOR,\n",
    "        'button[aria-label=\"Dismiss sign-in info.\"]'\n",
    "    )\n",
    "    close_btn.click()"
   ]
  },
  {
   "cell_type": "code",
   "execution_count": null,
   "metadata": {},
   "outputs": [],
   "source": [
    "def toggle_currency_button():\n",
    "    currency_btn = driver.find_element(By.CSS_SELECTOR,\n",
    "        'button[data-testid=\"header-currency-picker-trigger\"]'\n",
    "    )\n",
    "    currency_btn.click()"
   ]
  },
  {
   "cell_type": "code",
   "execution_count": null,
   "metadata": {},
   "outputs": [],
   "source": [
    "def change_currency(currency='USD'):\n",
    "    curreny_elems = driver.find_elements(By.CSS_SELECTOR,\n",
    "        'button[data-testid=\"selection-item\"]'\n",
    "    )\n",
    "    required_elem = None\n",
    "    for elem in curreny_elems:\n",
    "        cur_elem = elem.find_element(By.CLASS_NAME, \"ea1163d21f\")\n",
    "        if cur_elem.text == currency:\n",
    "            required_elem = elem\n",
    "            break\n",
    "    required_elem.click()"
   ]
  },
  {
   "cell_type": "code",
   "execution_count": null,
   "metadata": {},
   "outputs": [],
   "source": [
    "def set_date(check_in, check_out):\n",
    "    date_table = driver.find_element(By.CSS_SELECTOR, 'table[class=\"aadb8ed6d3\"]')\n",
    "    st_date = date_table.find_element(By.CSS_SELECTOR, f'span[data-date=\"{check_in}\"]')\n",
    "    time.sleep(1)\n",
    "    end_date = date_table.find_element(By.CSS_SELECTOR, f'span[data-date=\"{check_out}\"]')\n",
    "    st_date.click()\n",
    "    end_date.click()"
   ]
  },
  {
   "cell_type": "code",
   "execution_count": null,
   "metadata": {},
   "outputs": [],
   "source": [
    "def write_desitination(destination):\n",
    "    location_elem = driver.find_element(By.CSS_SELECTOR, 'input[name=\"ss\"]')\n",
    "    location_elem.send_keys(destination)\n",
    "    time.sleep(2)\n",
    "    options = driver.find_element(By.CSS_SELECTOR, 'ul[data-testid=\"autocomplete-results\"]')\n",
    "    final_dest = options.find_element(By.CLASS_NAME, 'a80e7dc237')\n",
    "    final_dest.click()"
   ]
  },
  {
   "cell_type": "code",
   "execution_count": null,
   "metadata": {},
   "outputs": [],
   "source": [
    "def define_people_and_room(adults=1, children=1, rooms=1):\n",
    "    occupancy_btn = driver.find_element(By.CSS_SELECTOR, 'button[data-testid=\"occupancy-config\"]')\n",
    "    occupancy_btn.click()\n",
    "    range_elems = driver.find_elements(By.CLASS_NAME, 'b2b5147b20')\n",
    "    adults_selector = range_elems[0]\n",
    "    children_selector = range_elems[1]\n",
    "    rooms_selector = range_elems[2]\n",
    "    set_objects(adults_selector, adults, 'group_adults')\n",
    "    # set_objects(children_selector, children)\n",
    "    set_objects(rooms_selector, rooms, 'no_rooms')    "
   ]
  },
  {
   "cell_type": "code",
   "execution_count": null,
   "metadata": {},
   "outputs": [],
   "source": [
    "def set_objects(_object, target, id):\n",
    "    dec = _object.find_elements(By.CSS_SELECTOR, 'button[tabindex=\"-1\"]')[0]\n",
    "    inc = _object.find_elements(By.CSS_SELECTOR, 'button[tabindex=\"-1\"]')[1]\n",
    "    value = _object.find_element(By.ID, id).get_attribute(\"aria-valuenow\")\n",
    "    while int(value) != 1:\n",
    "        dec.click()\n",
    "        value = _object.find_element(By.ID, id).get_attribute(\"aria-valuenow\")\n",
    "    while int(value) != target:\n",
    "        inc.click()\n",
    "        value = _object.find_element(By.ID, id).get_attribute(\"aria-valuenow\")"
   ]
  },
  {
   "cell_type": "code",
   "execution_count": null,
   "metadata": {},
   "outputs": [],
   "source": [
    "def property_type(ht_id):\n",
    "    property_type_selector = driver.find_element(By.CSS_SELECTOR, 'div[data-filters-group=\"ht_id\"]')\n",
    "    options = property_type_selector.find_elements(By.CLASS_NAME, 'f49aa20e67')\n",
    "    for option in options:\n",
    "        name = option.get_attribute('name')\n",
    "        if str(name) == f'ht_id={ht_id}':\n",
    "            option.click()\n",
    "            break"
   ]
  },
  {
   "cell_type": "code",
   "execution_count": null,
   "metadata": {},
   "outputs": [],
   "source": [
    "def property_rating(rating):\n",
    "    property_rating_selector = driver.find_element(By.CSS_SELECTOR, 'div[data-filters-group=\"class\"]')\n",
    "    options = property_rating_selector.find_elements(By.CLASS_NAME, 'f49aa20e67')\n",
    "    for option in options:\n",
    "        name = option.get_attribute('name')\n",
    "        if str(name) == f'class={rating}':\n",
    "            option.click()\n",
    "            break"
   ]
  },
  {
   "cell_type": "code",
   "execution_count": null,
   "metadata": {},
   "outputs": [],
   "source": [
    "def submit():\n",
    "    btn = driver.find_element(By.CSS_SELECTOR, 'button[type=\"submit\"]')\n",
    "    btn.click()"
   ]
  },
  {
   "cell_type": "code",
   "execution_count": null,
   "metadata": {},
   "outputs": [],
   "source": [
    "def wait_for_next_page_load(timeout=20):\n",
    "    # Wait for the presence of an element on the next page after submit\n",
    "    wait = WebDriverWait(driver, timeout)\n",
    "    wait.until(EC.presence_of_element_located((By.CSS_SELECTOR, 'div[data-testid=\"property-card\"]')))\n",
    "    print(\"Next page has been fully loaded and is ready for interactions.\")\n"
   ]
  },
  {
   "cell_type": "code",
   "execution_count": null,
   "metadata": {},
   "outputs": [],
   "source": [
    "def get_data():\n",
    "    data = []\n",
    "    cards = driver.find_elements(By.CSS_SELECTOR, 'div[data-testid=\"property-card\"]')\n",
    "    for card in cards:\n",
    "        try:\n",
    "            title = card.find_element(By.CSS_SELECTOR, 'div[data-testid=\"title\"]').text\n",
    "            address = card.find_element(By.CSS_SELECTOR, 'span[data-testid=\"address\"]').text\n",
    "            price = card.find_element(By.CSS_SELECTOR, 'span[data-testid=\"price-and-discounted-price\"]').text\n",
    "            data.append([title, address, price])\n",
    "        except NoSuchElementException as e:\n",
    "            # Handle the case when an element is not found in the card\n",
    "            print(f\"Element not found in card. Error: {e}\")\n",
    "            # You can choose to skip this card or take other appropriate actions\n",
    "\n",
    "    return data"
   ]
  },
  {
   "cell_type": "code",
   "execution_count": null,
   "metadata": {},
   "outputs": [],
   "source": [
    "dest = \"country\"\n",
    "check_in = '2023-08-07'\n",
    "check_out = '2023-08-27'\n",
    "currency = 'EUR'\n",
    "adults = 10\n",
    "rooms = 2\n",
    "rating = 5"
   ]
  },
  {
   "cell_type": "code",
   "execution_count": null,
   "metadata": {},
   "outputs": [],
   "source": [
    "\n",
    "land_page(BASE_URL)\n",
    "close_info_box()\n",
    "toggle_currency_button()\n",
    "change_currency(currency)\n",
    "write_desitination(dest)\n",
    "set_date(check_in, check_out)\n",
    "define_people_and_room(adults, 0, rooms)\n",
    "submit()\n",
    "wait_for_next_page_load()\n",
    "property_type(204)\n",
    "property_rating(rating)\n",
    "time.sleep(5)\n",
    "data = get_data()\n",
    "Hotels_data = {\"title\": [n[0] for n in data], \"Address\": [n[1] for n in data], \"Price\": [n[2] for n in data]}\n",
    "df = pd.DataFrame(Hotels_data)\n",
    "df"
   ]
  },
  {
   "cell_type": "code",
   "execution_count": null,
   "metadata": {},
   "outputs": [],
   "source": [
    "df.to_csv(dest + \" \" + check_in + \" to \" + check_out + \".csv\")"
   ]
  }
 ],
 "metadata": {
  "kernelspec": {
   "display_name": "Python 3",
   "language": "python",
   "name": "python3"
  },
  "language_info": {
   "codemirror_mode": {
    "name": "ipython",
    "version": 3
   },
   "file_extension": ".py",
   "mimetype": "text/x-python",
   "name": "python",
   "nbconvert_exporter": "python",
   "pygments_lexer": "ipython3",
   "version": "3.11.-1"
  },
  "orig_nbformat": 4
 },
 "nbformat": 4,
 "nbformat_minor": 2
}
