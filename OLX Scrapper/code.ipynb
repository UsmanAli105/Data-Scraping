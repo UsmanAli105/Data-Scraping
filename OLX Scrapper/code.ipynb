{
 "cells": [
  {
   "cell_type": "code",
   "execution_count": null,
   "metadata": {},
   "outputs": [],
   "source": [
    "from selenium import webdriver\n",
    "from selenium.webdriver.common.by import By\n",
    "from selenium.webdriver.common.keys import Keys\n",
    "from selenium.common.exceptions import NoSuchElementException\n",
    "import pandas as pd\n",
    "import time"
   ]
  },
  {
   "cell_type": "code",
   "execution_count": null,
   "metadata": {},
   "outputs": [],
   "source": [
    "BASE_URL = \"https://www.olx.com.pk/\""
   ]
  },
  {
   "cell_type": "code",
   "execution_count": null,
   "metadata": {},
   "outputs": [],
   "source": [
    "def land_page(url):\n",
    "    driver.get(url)"
   ]
  },
  {
   "cell_type": "code",
   "execution_count": null,
   "metadata": {},
   "outputs": [],
   "source": [
    "def change_location(location):\n",
    "    location_bar = driver.find_element(By.CSS_SELECTOR, 'input[autocomplete=\"location-search\"]')\n",
    "    location_bar.click()\n",
    "    location_bar.send_keys(Keys.CONTROL + 'a')\n",
    "    location_bar.send_keys(Keys.BACK_SPACE)\n",
    "    location_bar.send_keys(location)\n",
    "    time.sleep(1)\n",
    "    dropDown = driver.find_element(By.CSS_SELECTOR, 'div[aria-label=\"Locations dropdown\"]')\n",
    "    options = dropDown.find_elements(By.TAG_NAME, 'div')\n",
    "    options[1].click()"
   ]
  },
  {
   "cell_type": "code",
   "execution_count": null,
   "metadata": {},
   "outputs": [],
   "source": [
    "def search_item(item):\n",
    "    search_bar = driver.find_element(By.CSS_SELECTOR, 'input[autocomplete=\"free-text-search\"]')\n",
    "    search_bar.clear()\n",
    "    search_bar.send_keys(item)\n",
    "    search_btn = driver.find_element(By.CSS_SELECTOR, 'button[aria-label=\"Search\"]')\n",
    "    search_btn.click()"
   ]
  },
  {
   "cell_type": "code",
   "execution_count": null,
   "metadata": {},
   "outputs": [],
   "source": [
    "def get_items():\n",
    "    try:\n",
    "        list_of_items = driver.find_element(By.CSS_SELECTOR, 'ul.ba608fb8.de8df3a3')\n",
    "        items = list_of_items.find_elements(By.TAG_NAME, 'li')\n",
    "        print(len(items))\n",
    "        data = []\n",
    "        for i in items:\n",
    "            try:\n",
    "                price = i.find_element(By.CSS_SELECTOR, 'div[aria-label=\"Price\"]').text\n",
    "                name = i.find_element(By.CSS_SELECTOR, 'div[aria-label=\"Title\"]').text\n",
    "                location = i.find_element(By.CSS_SELECTOR, 'span[aria-label=\"Location\"]').text\n",
    "                creation_date = i.find_element(By.CSS_SELECTOR, 'span[aria-label=\"Creation date\"]').text\n",
    "                data.append([name, price, location, creation_date])\n",
    "            except NoSuchElementException:\n",
    "                print(\"Some elements not found in this item. Skipping.\")\n",
    "                continue\n",
    "        return data\n",
    "    except NoSuchElementException:\n",
    "        print(\"List of items not found.\")\n",
    "        return []"
   ]
  },
  {
   "cell_type": "code",
   "execution_count": null,
   "metadata": {},
   "outputs": [],
   "source": [
    "driver = webdriver.Chrome()\n",
    "driver.implicitly_wait(20)\n",
    "land_page(BASE_URL)\n",
    "change_location('location')\n",
    "search_item('item')"
   ]
  },
  {
   "cell_type": "code",
   "execution_count": null,
   "metadata": {},
   "outputs": [],
   "source": [
    "data = get_items()"
   ]
  },
  {
   "cell_type": "code",
   "execution_count": null,
   "metadata": {},
   "outputs": [],
   "source": [
    "df = pd.DataFrame(data, columns=['name', 'price', 'location', 'creation_date'])"
   ]
  },
  {
   "cell_type": "code",
   "execution_count": null,
   "metadata": {},
   "outputs": [],
   "source": [
    "df.min()    "
   ]
  },
  {
   "cell_type": "code",
   "execution_count": null,
   "metadata": {},
   "outputs": [],
   "source": [
    "df['price'] = df['price'].str.replace('Rs', '').str.replace(',', '')\n",
    "\n",
    "# Convert the 'price' column to numeric\n",
    "df['price'] = pd.to_numeric(df['price'])"
   ]
  },
  {
   "cell_type": "code",
   "execution_count": null,
   "metadata": {},
   "outputs": [],
   "source": [
    "from datetime import datetime, timedelta\n",
    "\n",
    "def convert_relative_time(relative_time):\n",
    "    if 'hour' in relative_time:\n",
    "        hours = int(relative_time.split()[0])\n",
    "        return datetime.now() - timedelta(hours=hours)\n",
    "    elif 'day' in relative_time:\n",
    "        days = int(relative_time.split()[0])\n",
    "        return datetime.now() - timedelta(days=days)\n",
    "    else:\n",
    "        return None  # Handle other cases as needed\n"
   ]
  },
  {
   "cell_type": "code",
   "execution_count": null,
   "metadata": {},
   "outputs": [],
   "source": [
    "df['creation_date'] = df['creation_date'].apply(convert_relative_time)"
   ]
  },
  {
   "cell_type": "code",
   "execution_count": null,
   "metadata": {},
   "outputs": [],
   "source": [
    "df"
   ]
  },
  {
   "cell_type": "code",
   "execution_count": null,
   "metadata": {},
   "outputs": [],
   "source": [
    "df.to_csv('item', index=False)"
   ]
  }
 ],
 "metadata": {
  "kernelspec": {
   "display_name": "Python 3",
   "language": "python",
   "name": "python3"
  },
  "language_info": {
   "codemirror_mode": {
    "name": "ipython",
    "version": 3
   },
   "file_extension": ".py",
   "mimetype": "text/x-python",
   "name": "python",
   "nbconvert_exporter": "python",
   "pygments_lexer": "ipython3",
   "version": "3.11.-1"
  },
  "orig_nbformat": 4
 },
 "nbformat": 4,
 "nbformat_minor": 2
}
