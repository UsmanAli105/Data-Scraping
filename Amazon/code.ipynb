{
 "cells": [
  {
   "cell_type": "code",
   "execution_count": null,
   "metadata": {},
   "outputs": [],
   "source": [
    "from selenium import webdriver\n",
    "from selenium.webdriver.common.by import By\n",
    "from selenium.webdriver.chrome.options import Options\n",
    "from selenium.common.exceptions import NoSuchElementException\n",
    "from concurrent.futures import ThreadPoolExecutor, as_completed"
   ]
  },
  {
   "cell_type": "code",
   "execution_count": null,
   "metadata": {},
   "outputs": [],
   "source": [
    "driver = webdriver.Chrome()"
   ]
  },
  {
   "cell_type": "code",
   "execution_count": null,
   "metadata": {},
   "outputs": [],
   "source": [
    "search_query = input(\"Manually search for a product on Amazon. Press Enter after completing the search.\")\n",
    "\n",
    "url = \"\"\n",
    "driver.get(url)\n",
    "\n",
    "# Wait for the dynamic content to load (adjust the time as needed)\n",
    "driver.implicitly_wait(10)"
   ]
  },
  {
   "cell_type": "code",
   "execution_count": null,
   "metadata": {},
   "outputs": [],
   "source": [
    "product_elements = driver.find_elements(By.CSS_SELECTOR, 'div.a-section.a-spacing-base')"
   ]
  },
  {
   "cell_type": "code",
   "execution_count": null,
   "metadata": {},
   "outputs": [],
   "source": [
    "def extract_product_info(product_element):\n",
    "    try:\n",
    "        # Extract title\n",
    "        title_element = product_element.find_element(By.CSS_SELECTOR, 'h2.a-size-mini.a-spacing-none.a-color-base.s-line-clamp-4')\n",
    "        title = title_element.text.strip()\n",
    "\n",
    "        # Extract price\n",
    "        price = product_element.find_element(By.CSS_SELECTOR, 'span.a-price-whole').text.strip() + \".\" + product_element.find_element(By.CSS_SELECTOR, 'span.a-price-fraction').text.strip()\n",
    "\n",
    "        # Return the title and price as a tuple\n",
    "        return (title, price)\n",
    "    except NoSuchElementException as e:\n",
    "        # Handle the exception by printing a message\n",
    "        print(\"Error occurred while extracting product information:\", e)\n",
    "        return None"
   ]
  },
  {
   "cell_type": "code",
   "execution_count": null,
   "metadata": {},
   "outputs": [],
   "source": [
    "products_info = []\n",
    "\n",
    "# Use ThreadPoolExecutor to execute tasks in parallel using 4 cores\n",
    "with ThreadPoolExecutor(max_workers=4) as executor:\n",
    "    # Submit the scraping tasks and get the futures\n",
    "    futures = [executor.submit(extract_product_info, product_element) for product_element in product_elements]\n",
    "\n",
    "    # Wait for all tasks to complete and process the results\n",
    "    for future in as_completed(futures):\n",
    "        result = future.result()\n",
    "        if result is not None:\n",
    "            products_info.append(result)"
   ]
  },
  {
   "cell_type": "code",
   "execution_count": null,
   "metadata": {},
   "outputs": [],
   "source": [
    "import pandas as pd"
   ]
  },
  {
   "cell_type": "code",
   "execution_count": null,
   "metadata": {},
   "outputs": [],
   "source": [
    "df = pd.DataFrame({\"name\": [n[0] for n in products_info], \"price\": [n[1] for n in products_info]})"
   ]
  },
  {
   "cell_type": "code",
   "execution_count": null,
   "metadata": {},
   "outputs": [],
   "source": [
    "df"
   ]
  },
  {
   "cell_type": "markdown",
   "metadata": {},
   "source": [
    "**EDA**"
   ]
  },
  {
   "cell_type": "code",
   "execution_count": null,
   "metadata": {},
   "outputs": [],
   "source": [
    "df.max()"
   ]
  }
 ],
 "metadata": {
  "kernelspec": {
   "display_name": "Python 3",
   "language": "python",
   "name": "python3"
  },
  "language_info": {
   "codemirror_mode": {
    "name": "ipython",
    "version": 3
   },
   "file_extension": ".py",
   "mimetype": "text/x-python",
   "name": "python",
   "nbconvert_exporter": "python",
   "pygments_lexer": "ipython3",
   "version": "3.11.-1"
  },
  "orig_nbformat": 4
 },
 "nbformat": 4,
 "nbformat_minor": 2
}
