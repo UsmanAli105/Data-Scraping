{
 "cells": [
  {
   "cell_type": "code",
   "execution_count": null,
   "metadata": {},
   "outputs": [],
   "source": [
    "from selenium import webdriver\n",
    "from selenium.webdriver.common.by import By\n",
    "from selenium.webdriver.common.keys import Keys\n",
    "import pandas as pd\n",
    "import time"
   ]
  },
  {
   "cell_type": "code",
   "execution_count": null,
   "metadata": {},
   "outputs": [],
   "source": [
    "def scroll_down(driver, scroll_times, scroll_distance=1000, scroll_pause_time=2):\n",
    "    for _ in range(scroll_times):\n",
    "        driver.execute_script(f\"window.scrollBy(0, {scroll_distance});\")\n",
    "        time.sleep(scroll_pause_time)"
   ]
  },
  {
   "cell_type": "code",
   "execution_count": null,
   "metadata": {},
   "outputs": [],
   "source": [
    "BASE_URL = \"\""
   ]
  },
  {
   "cell_type": "code",
   "execution_count": null,
   "metadata": {},
   "outputs": [],
   "source": [
    "def land_page(url):\n",
    "    driver.get(url)"
   ]
  },
  {
   "cell_type": "code",
   "execution_count": null,
   "metadata": {},
   "outputs": [],
   "source": [
    "driver = webdriver.Chrome()\n",
    "driver.implicitly_wait(20)\n",
    "land_page(BASE_URL)"
   ]
  },
  {
   "cell_type": "code",
   "execution_count": null,
   "metadata": {},
   "outputs": [],
   "source": [
    "scroll_down(driver, 10,1000, 2)"
   ]
  },
  {
   "cell_type": "code",
   "execution_count": null,
   "metadata": {},
   "outputs": [],
   "source": [
    "def get_comments():\n",
    "    comments_section = driver.find_element(By.ID, 'contents')\n",
    "    comments = comments_section.find_elements(By.TAG_NAME, 'ytd-comment-thread-renderer')\n",
    "    data = []\n",
    "    for i in comments:\n",
    "        name = i.find_element(By.CSS_SELECTOR, 'h3.style-scope.ytd-comment-renderer').text\n",
    "        comment = i.find_element(By.ID, 'comment-content').text\n",
    "        data.append([name, comment])\n",
    "    return data"
   ]
  },
  {
   "cell_type": "code",
   "execution_count": null,
   "metadata": {},
   "outputs": [],
   "source": [
    "data = get_comments()"
   ]
  },
  {
   "cell_type": "code",
   "execution_count": null,
   "metadata": {},
   "outputs": [],
   "source": [
    "df = pd.DataFrame(data, columns=['name', 'comments'])"
   ]
  },
  {
   "cell_type": "code",
   "execution_count": null,
   "metadata": {},
   "outputs": [],
   "source": [
    "df.head(20)"
   ]
  },
  {
   "cell_type": "code",
   "execution_count": null,
   "metadata": {},
   "outputs": [],
   "source": [
    "from nltk.sentiment.vader import SentimentIntensityAnalyzer\n",
    "sia = SentimentIntensityAnalyzer()\n",
    "\n",
    "# Function to determine sentiment label\n",
    "def get_sentiment_label(sentiment_score):\n",
    "    if sentiment_score > 0:\n",
    "        return 1  # Positive\n",
    "    elif sentiment_score < 0:\n",
    "        return -1  # Negative\n",
    "    else:\n",
    "        return 0  # Neutral"
   ]
  },
  {
   "cell_type": "code",
   "execution_count": null,
   "metadata": {},
   "outputs": [],
   "source": [
    "# Apply sentiment analysis and add sentiment column to DataFrame\n",
    "df['sentiment_scores'] = df['comments'].apply(lambda x: sia.polarity_scores(x)['compound'])\n",
    "df['sentiment'] = df['sentiment_scores'].apply(get_sentiment_label)"
   ]
  },
  {
   "cell_type": "code",
   "execution_count": null,
   "metadata": {},
   "outputs": [],
   "source": [
    "df"
   ]
  },
  {
   "cell_type": "code",
   "execution_count": null,
   "metadata": {},
   "outputs": [],
   "source": [
    "print(len(df))\n",
    "print(df['sentiment'].value_counts())"
   ]
  },
  {
   "cell_type": "code",
   "execution_count": null,
   "metadata": {},
   "outputs": [],
   "source": [
    "total_positive = (df['sentiment'] == 1).sum()\n",
    "total_negative = (df['sentiment'] == -1).sum()\n",
    "total_neutral = (df['sentiment'] == 0).sum()\n",
    "\n",
    "# Calculate the total number of comments\n",
    "total_comments = total_positive + total_negative + total_neutral\n",
    "\n",
    "# Calculate the proportion of each sentiment category\n",
    "proportion_positive = total_positive / total_comments\n",
    "proportion_negative = total_negative / total_comments\n",
    "proportion_neutral = total_neutral / total_comments\n",
    "\n",
    "# Determine the overall sentiment based on the majority proportion\n",
    "if proportion_positive > proportion_negative:\n",
    "    overall_sentiment = \"Positive\"\n",
    "elif proportion_positive < proportion_negative:\n",
    "    overall_sentiment = \"Negative\"\n",
    "else:\n",
    "    overall_sentiment = \"Neutral\"\n",
    "\n",
    "# Print or display the results\n",
    "print(f\"Total Comments: {total_comments}\")\n",
    "print(f\"Proportion Positive: {proportion_positive:.2%}\")\n",
    "print(f\"Proportion Negative: {proportion_negative:.2%}\")\n",
    "print(f\"Proportion Neutral: {proportion_neutral:.2%}\")\n",
    "print(f\"Overall Sentiment: {overall_sentiment}\")"
   ]
  },
  {
   "cell_type": "code",
   "execution_count": null,
   "metadata": {},
   "outputs": [],
   "source": [
    "df[df['sentiment'] == 0]['comments'][92]"
   ]
  },
  {
   "cell_type": "code",
   "execution_count": null,
   "metadata": {},
   "outputs": [],
   "source": [
    "df.to_csv('comment.csv', index=False)"
   ]
  }
 ],
 "metadata": {
  "kernelspec": {
   "display_name": "Python 3",
   "language": "python",
   "name": "python3"
  },
  "language_info": {
   "codemirror_mode": {
    "name": "ipython",
    "version": 3
   },
   "file_extension": ".py",
   "mimetype": "text/x-python",
   "name": "python",
   "nbconvert_exporter": "python",
   "pygments_lexer": "ipython3",
   "version": "3.11.-1"
  },
  "orig_nbformat": 4
 },
 "nbformat": 4,
 "nbformat_minor": 2
}
